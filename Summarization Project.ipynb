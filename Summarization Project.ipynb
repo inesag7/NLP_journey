{
  "nbformat": 4,
  "nbformat_minor": 0,
  "metadata": {
    "colab": {
      "provenance": []
    },
    "kernelspec": {
      "name": "python3",
      "display_name": "Python 3"
    },
    "language_info": {
      "name": "python"
    }
  },
  "cells": [
    {
      "cell_type": "code",
      "source": [],
      "metadata": {
        "id": "GwEEpwt88C9v"
      },
      "execution_count": 8,
      "outputs": []
    },
    {
      "cell_type": "markdown",
      "source": [
        "#Project: Text Summarization\n",
        " ## statistical NLP approach"
      ],
      "metadata": {
        "id": "Y8Llvt9-e5DK"
      }
    },
    {
      "cell_type": "code",
      "source": [
        "!pip install nltk\n",
        "!pip install scikit-learn"
      ],
      "metadata": {
        "colab": {
          "base_uri": "https://localhost:8080/"
        },
        "id": "zdks68JzdMdi",
        "outputId": "97976cdf-8bdf-4dd5-be8c-f18d1d857c3e"
      },
      "execution_count": 9,
      "outputs": [
        {
          "output_type": "stream",
          "name": "stdout",
          "text": [
            "Requirement already satisfied: nltk in /usr/local/lib/python3.11/dist-packages (3.9.1)\n",
            "Requirement already satisfied: click in /usr/local/lib/python3.11/dist-packages (from nltk) (8.1.8)\n",
            "Requirement already satisfied: joblib in /usr/local/lib/python3.11/dist-packages (from nltk) (1.4.2)\n",
            "Requirement already satisfied: regex>=2021.8.3 in /usr/local/lib/python3.11/dist-packages (from nltk) (2024.11.6)\n",
            "Requirement already satisfied: tqdm in /usr/local/lib/python3.11/dist-packages (from nltk) (4.67.1)\n",
            "Requirement already satisfied: scikit-learn in /usr/local/lib/python3.11/dist-packages (1.6.1)\n",
            "Requirement already satisfied: numpy>=1.19.5 in /usr/local/lib/python3.11/dist-packages (from scikit-learn) (1.26.4)\n",
            "Requirement already satisfied: scipy>=1.6.0 in /usr/local/lib/python3.11/dist-packages (from scikit-learn) (1.13.1)\n",
            "Requirement already satisfied: joblib>=1.2.0 in /usr/local/lib/python3.11/dist-packages (from scikit-learn) (1.4.2)\n",
            "Requirement already satisfied: threadpoolctl>=3.1.0 in /usr/local/lib/python3.11/dist-packages (from scikit-learn) (3.5.0)\n"
          ]
        }
      ]
    },
    {
      "cell_type": "code",
      "source": [
        "pip install pymupdf"
      ],
      "metadata": {
        "colab": {
          "base_uri": "https://localhost:8080/"
        },
        "id": "ZJiV7azH_erU",
        "outputId": "5b31856a-328f-413a-eaf5-6daaed872698"
      },
      "execution_count": 38,
      "outputs": [
        {
          "output_type": "stream",
          "name": "stdout",
          "text": [
            "Collecting pymupdf\n",
            "  Downloading pymupdf-1.25.3-cp39-abi3-manylinux2014_x86_64.manylinux_2_17_x86_64.whl.metadata (3.4 kB)\n",
            "Downloading pymupdf-1.25.3-cp39-abi3-manylinux2014_x86_64.manylinux_2_17_x86_64.whl (20.0 MB)\n",
            "\u001b[2K   \u001b[90m━━━━━━━━━━━━━━━━━━━━━━━━━━━━━━━━━━━━━━━━\u001b[0m \u001b[32m20.0/20.0 MB\u001b[0m \u001b[31m74.2 MB/s\u001b[0m eta \u001b[36m0:00:00\u001b[0m\n",
            "\u001b[?25hInstalling collected packages: pymupdf\n",
            "Successfully installed pymupdf-1.25.3\n"
          ]
        }
      ]
    },
    {
      "cell_type": "code",
      "source": [
        "import fitz  # PyMuPDF for PDF text extraction\n",
        "import nltk\n",
        "from nltk.tokenize import sent_tokenize, word_tokenize\n",
        "from nltk.corpus import stopwords\n",
        "from sklearn.feature_extraction.text import TfidfVectorizer\n",
        "\n",
        "# Download necessary NLTK data\n",
        "nltk.download(\"punkt\")\n",
        "nltk.download(\"stopwords\")\n",
        "\n",
        "# Provide a local PDF path (NOT a Google Drive link)\n",
        "pdf_path = \"/content/drive/MyDrive/Mitacs’ Terms of Use.pdf\"  # Change this to the actual file path\n",
        "\n",
        "# Function to extract text from a PDF file\n",
        "def extract_text_from_pdf(pdf_path):\n",
        "    text = \"\"\n",
        "    try:\n",
        "        doc = fitz.open(pdf_path)  # Open the PDF\n",
        "        for page in doc:\n",
        "            text += page.get_text(\"text\")  # Extract text from each page\n",
        "        if not text:\n",
        "            print(\"Warning: No text extracted. Check the PDF format.\")\n",
        "    except Exception as e:\n",
        "        print(f\"Error: {e}\")\n",
        "    return text\n",
        "\n",
        "# Extract text from PDF\n",
        "article_text = extract_text_from_pdf(pdf_path)\n",
        "\n",
        "# Tokenize into sentences\n",
        "if article_text:\n",
        "    sentences = sent_tokenize(article_text)\n",
        "    print(\"\\nSentences in this article:\")\n",
        "    for i, sentence in enumerate(sentences[:5]):  # Display first 5 sentences\n",
        "        print(f\"{i+1}. {sentence}\")\n",
        "else:\n",
        "    print(\"No text found in the PDF.\")\n"
      ],
      "metadata": {
        "colab": {
          "base_uri": "https://localhost:8080/"
        },
        "id": "xCMKYXSPdMhI",
        "outputId": "7c785e22-e735-4eea-ca1a-d1066ca74856"
      },
      "execution_count": 42,
      "outputs": [
        {
          "output_type": "stream",
          "name": "stderr",
          "text": [
            "[nltk_data] Downloading package punkt to /root/nltk_data...\n",
            "[nltk_data]   Package punkt is already up-to-date!\n",
            "[nltk_data] Downloading package stopwords to /root/nltk_data...\n",
            "[nltk_data]   Package stopwords is already up-to-date!\n"
          ]
        },
        {
          "output_type": "stream",
          "name": "stdout",
          "text": [
            "\n",
            "Sentences in this article:\n",
            "1.  \n",
            " \n",
            "  \n",
            " \n",
            "Mitacs’s Terms of Use \n",
            " \n",
            " \n",
            "By selecting \"Yes\" to this section, I: \n",
            " \n",
            "• \n",
            "Agree to provide Mitacs with accurate, complete and detailed information only.\n",
            "2. • \n",
            "Agree to update any data that is out-of-date, comply with all timelines requiring the submission of \n",
            "information where it is reasonable for me to do so, and input changes to information as I receive it, in \n",
            "a timely way.\n",
            "3. • \n",
            "Recognize that Mitacs uses the information provided to arrange supports and services for my internship \n",
            "and to dispense my award payments.\n",
            "4. I will not hold Mitacs liable should I fail to provide Mitacs with \n",
            "accurate, up-to-date, complete information in a timely fashion, resulting in support services not being \n",
            "arranged or my payments being delayed.\n",
            "5. • \n",
            "Acknowledge that I am 18 years of age and, therefore, of the legal age in Canada required to provide \n",
            "the consent contained herein.\n"
          ]
        }
      ]
    },
    {
      "cell_type": "code",
      "source": [
        "\n",
        "stop_words = set(stopwords.words('english'))\n",
        "\n",
        "def preprocess(text):\n",
        "  words = word_tokenize(text.lower())\n",
        "  words = [word for word in words if word.isalpha() and word not in stop_words]\n",
        "  return \" \".join(words)\n",
        "\n",
        "\n",
        "\n",
        "processed_sentences = [preprocess(sentence) for sentence in sentences ]\n",
        "\n",
        "print(\"Processed Sentences :\", processed_sentences)\n",
        "\n"
      ],
      "metadata": {
        "id": "PtTlKt_dfSRp",
        "colab": {
          "base_uri": "https://localhost:8080/"
        },
        "outputId": "c71925e7-8845-42ae-cc65-148b0e06e994"
      },
      "execution_count": 43,
      "outputs": [
        {
          "output_type": "stream",
          "name": "stdout",
          "text": [
            "Processed Sentences : ['mitacs terms use selecting yes section agree provide mitacs accurate complete detailed information', 'agree update data comply timelines requiring submission information reasonable input changes information receive timely way', 'recognize mitacs uses information provided arrange supports services internship dispense award payments', 'hold mitacs liable fail provide mitacs accurate complete information timely fashion resulting support services arranged payments delayed', 'acknowledge years age therefore legal age canada required provide consent contained herein']\n"
          ]
        }
      ]
    },
    {
      "cell_type": "code",
      "source": [
        "tfidf_vectorizer = TfidfVectorizer()\n",
        "tfidf_matrix = tfidf_vectorizer.fit_transform(processed_sentences)\n",
        "print (tfidf_matrix)\n"
      ],
      "metadata": {
        "id": "guuY_nINfSUG",
        "colab": {
          "base_uri": "https://localhost:8080/"
        },
        "outputId": "e99c563f-6415-4ad3-8c08-cbb4879d24cc"
      },
      "execution_count": 44,
      "outputs": [
        {
          "output_type": "stream",
          "name": "stdout",
          "text": [
            "  (0, 26)\t0.4131049253363838\n",
            "  (0, 42)\t0.3084199912964104\n",
            "  (0, 47)\t0.3084199912964104\n",
            "  (0, 37)\t0.3084199912964104\n",
            "  (0, 51)\t0.3084199912964104\n",
            "  (0, 36)\t0.3084199912964104\n",
            "  (0, 3)\t0.24883130700776374\n",
            "  (0, 28)\t0.2065524626681919\n",
            "  (0, 0)\t0.24883130700776374\n",
            "  (0, 9)\t0.24883130700776374\n",
            "  (0, 15)\t0.3084199912964104\n",
            "  (0, 21)\t0.1737584432460257\n",
            "  (1, 3)\t0.21900279936620143\n",
            "  (1, 21)\t0.30585850262969977\n",
            "  (1, 46)\t0.2714483249179972\n",
            "  (1, 13)\t0.2714483249179972\n",
            "  (1, 10)\t0.2714483249179972\n",
            "  (1, 44)\t0.2714483249179972\n",
            "  (1, 34)\t0.2714483249179972\n",
            "  (1, 39)\t0.2714483249179972\n",
            "  (1, 30)\t0.2714483249179972\n",
            "  (1, 22)\t0.2714483249179972\n",
            "  (1, 8)\t0.2714483249179972\n",
            "  (1, 31)\t0.2714483249179972\n",
            "  (1, 45)\t0.21900279936620143\n",
            "  :\t:\n",
            "  (3, 0)\t0.21706717170530437\n",
            "  (3, 9)\t0.21706717170530437\n",
            "  (3, 21)\t0.1515776060853735\n",
            "  (3, 45)\t0.21706717170530437\n",
            "  (3, 38)\t0.21706717170530437\n",
            "  (3, 27)\t0.21706717170530437\n",
            "  (3, 20)\t0.2690491643239955\n",
            "  (3, 25)\t0.2690491643239955\n",
            "  (3, 17)\t0.2690491643239955\n",
            "  (3, 18)\t0.2690491643239955\n",
            "  (3, 35)\t0.2690491643239955\n",
            "  (3, 40)\t0.2690491643239955\n",
            "  (3, 5)\t0.2690491643239955\n",
            "  (3, 14)\t0.2690491643239955\n",
            "  (4, 28)\t0.1826209980267509\n",
            "  (4, 1)\t0.2726860086506532\n",
            "  (4, 50)\t0.2726860086506532\n",
            "  (4, 2)\t0.5453720173013064\n",
            "  (4, 43)\t0.2726860086506532\n",
            "  (4, 24)\t0.2726860086506532\n",
            "  (4, 7)\t0.2726860086506532\n",
            "  (4, 33)\t0.2726860086506532\n",
            "  (4, 11)\t0.2726860086506532\n",
            "  (4, 12)\t0.2726860086506532\n",
            "  (4, 19)\t0.2726860086506532\n"
          ]
        }
      ]
    },
    {
      "cell_type": "code",
      "source": [
        "sentence_importance = tfidf_matrix.sum(axis=1).A1\n",
        "sentence_scores = list(zip(sentences,sentence_importance ))\n",
        "\n",
        "sorted_sentence_scores = sorted(sentence_scores , key=lambda x: x[1],reverse= True)\n",
        "\n",
        "\n",
        "print(\"sorted sentences by Importance :\")\n",
        "for sentence ,score in sorted_sentence_scores:\n",
        "  print(f\"{sentence} (Score: {score})\")\n"
      ],
      "metadata": {
        "id": "ZF0sxdTHfSWr",
        "colab": {
          "base_uri": "https://localhost:8080/"
        },
        "outputId": "6eb53162-a59a-46fc-808c-abcb1b86dffb"
      },
      "execution_count": 45,
      "outputs": [
        {
          "output_type": "stream",
          "name": "stdout",
          "text": [
            "sorted sentences by Importance :\n",
            "I will not hold Mitacs liable should I fail to provide Mitacs with \n",
            "accurate, up-to-date, complete information in a timely fashion, resulting in support services not being \n",
            "arranged or my payments being delayed. (Score: 3.9298628621900455)\n",
            "• \n",
            "Agree to update any data that is out-of-date, comply with all timelines requiring the submission of \n",
            "information where it is reasonable for me to do so, and input changes to information as I receive it, in \n",
            "a timely way. (Score: 3.729795675460072)\n",
            "• \n",
            "Recognize that Mitacs uses the information provided to arrange supports and services for my internship \n",
            "and to dispense my award payments. (Score: 3.4184621252653455)\n",
            " \n",
            " \n",
            "  \n",
            " \n",
            "Mitacs’s Terms of Use \n",
            " \n",
            " \n",
            "By selecting \"Yes\" to this section, I: \n",
            " \n",
            "• \n",
            "Agree to provide Mitacs with accurate, complete and detailed information only. (Score: 3.390429700052355)\n",
            "• \n",
            "Acknowledge that I am 18 years of age and, therefore, of the legal age in Canada required to provide \n",
            "the consent contained herein. (Score: 3.1821670931839363)\n"
          ]
        }
      ]
    },
    {
      "cell_type": "code",
      "source": [
        "top_n = 2\n",
        "summary_sentences = [sentence for sentence ,score in sorted_sentence_scores[:top_n]]\n",
        "\n",
        "summary = \" \".join(summary_sentences)\n",
        "print(\"\\n Summary:\")\n",
        "print(summary)\n",
        "\n",
        "print ( len(summary))"
      ],
      "metadata": {
        "id": "-g0KhOpgfSaE",
        "colab": {
          "base_uri": "https://localhost:8080/"
        },
        "outputId": "75069285-83a5-410b-fb93-89138643ad9b"
      },
      "execution_count": 46,
      "outputs": [
        {
          "output_type": "stream",
          "name": "stdout",
          "text": [
            "\n",
            " Summary:\n",
            "I will not hold Mitacs liable should I fail to provide Mitacs with \n",
            "accurate, up-to-date, complete information in a timely fashion, resulting in support services not being \n",
            "arranged or my payments being delayed. • \n",
            "Agree to update any data that is out-of-date, comply with all timelines requiring the submission of \n",
            "information where it is reasonable for me to do so, and input changes to information as I receive it, in \n",
            "a timely way.\n",
            "435\n"
          ]
        }
      ]
    },
    {
      "cell_type": "markdown",
      "source": [
        "### we can verify the result by using \"ROUGE\""
      ],
      "metadata": {
        "id": "7KvB_2rH2m4o"
      }
    },
    {
      "cell_type": "code",
      "source": [
        "pip install rouge-score"
      ],
      "metadata": {
        "colab": {
          "base_uri": "https://localhost:8080/"
        },
        "id": "SOomaJWp2yAo",
        "outputId": "8b08170f-e4d9-4de8-eef4-13b3f82665ad"
      },
      "execution_count": 47,
      "outputs": [
        {
          "output_type": "stream",
          "name": "stdout",
          "text": [
            "Requirement already satisfied: rouge-score in /usr/local/lib/python3.11/dist-packages (0.1.2)\n",
            "Requirement already satisfied: absl-py in /usr/local/lib/python3.11/dist-packages (from rouge-score) (1.4.0)\n",
            "Requirement already satisfied: nltk in /usr/local/lib/python3.11/dist-packages (from rouge-score) (3.9.1)\n",
            "Requirement already satisfied: numpy in /usr/local/lib/python3.11/dist-packages (from rouge-score) (1.26.4)\n",
            "Requirement already satisfied: six>=1.14.0 in /usr/local/lib/python3.11/dist-packages (from rouge-score) (1.17.0)\n",
            "Requirement already satisfied: click in /usr/local/lib/python3.11/dist-packages (from nltk->rouge-score) (8.1.8)\n",
            "Requirement already satisfied: joblib in /usr/local/lib/python3.11/dist-packages (from nltk->rouge-score) (1.4.2)\n",
            "Requirement already satisfied: regex>=2021.8.3 in /usr/local/lib/python3.11/dist-packages (from nltk->rouge-score) (2024.11.6)\n",
            "Requirement already satisfied: tqdm in /usr/local/lib/python3.11/dist-packages (from nltk->rouge-score) (4.67.1)\n"
          ]
        }
      ]
    },
    {
      "cell_type": "code",
      "source": [
        "from rouge_score import rouge_scorer\n",
        "reference_summary =article_text\n",
        "\n",
        "system_summary = summary\n",
        "\n",
        "scorer =rouge_scorer.RougeScorer(['rouge1','rouge2','rougeL'],use_stemmer=True)\n",
        "\n",
        "scores =scorer.score(reference_summary,system_summary)\n",
        "\n",
        "print(\"\\n ROUGE Scores:\")\n",
        "print(f\"ROUGE-1: {scores ['rouge1']}\")\n",
        "print(f\"ROUGE-2: {scores ['rouge1']}\")\n",
        "print(f\"ROUGE-L: {scores ['rouge1']}\")\n",
        "\n"
      ],
      "metadata": {
        "colab": {
          "base_uri": "https://localhost:8080/"
        },
        "id": "L8E3Anvh21No",
        "outputId": "c801d363-9748-4c23-ce31-c45818d86cda"
      },
      "execution_count": 49,
      "outputs": [
        {
          "output_type": "stream",
          "name": "stdout",
          "text": [
            "\n",
            " ROUGE Scores:\n",
            "ROUGE-1: Score(precision=1.0, recall=0.5314685314685315, fmeasure=0.6940639269406392)\n",
            "ROUGE-2: Score(precision=1.0, recall=0.5314685314685315, fmeasure=0.6940639269406392)\n",
            "ROUGE-L: Score(precision=1.0, recall=0.5314685314685315, fmeasure=0.6940639269406392)\n"
          ]
        }
      ]
    },
    {
      "cell_type": "markdown",
      "source": [
        "ROUGE-1: Measures overlap of individual words.                 \n",
        "ROUGE-2: Measures overlap of two-word sequences (bigrams).               \n",
        "ROUGE-L: Measures longest common subsequence (LCS) overlap.          \n",
        "\n",
        "\n",
        "\n",
        "**Precision =1.0 which is good :means the generetad text contains only words that exist in the original text .        \n",
        "\n",
        "\n",
        "**Recal=0.53 which means that the summary is missing  of important information .It contains only 34% of the key words/phrases\n",
        "\n",
        "**F1-Score=0.69: the summary misses details"
      ],
      "metadata": {
        "id": "ej8-hB2i4ntY"
      }
    },
    {
      "cell_type": "code",
      "source": [],
      "metadata": {
        "id": "_rYhtXyM21QQ"
      },
      "execution_count": null,
      "outputs": []
    },
    {
      "cell_type": "markdown",
      "source": [
        "#we increase recall by selection More sentences"
      ],
      "metadata": {
        "id": "NW8noBNh5k48"
      }
    },
    {
      "cell_type": "code",
      "source": [
        "top_n = 4\n",
        "summary_sentences = [sentence for sentence ,score in sorted_sentence_scores[:top_n]]\n",
        "\n",
        "summary = \" \".join(summary_sentences)\n",
        "print(\"\\n Summary:\")\n",
        "print(summary)\n",
        "print ( len(summary))"
      ],
      "metadata": {
        "colab": {
          "base_uri": "https://localhost:8080/"
        },
        "id": "ZKauzq-Z21Zn",
        "outputId": "45fc9bfc-1e1b-49b4-ddb6-cb292bea911a"
      },
      "execution_count": 50,
      "outputs": [
        {
          "output_type": "stream",
          "name": "stdout",
          "text": [
            "\n",
            " Summary:\n",
            "I will not hold Mitacs liable should I fail to provide Mitacs with \n",
            "accurate, up-to-date, complete information in a timely fashion, resulting in support services not being \n",
            "arranged or my payments being delayed. • \n",
            "Agree to update any data that is out-of-date, comply with all timelines requiring the submission of \n",
            "information where it is reasonable for me to do so, and input changes to information as I receive it, in \n",
            "a timely way. • \n",
            "Recognize that Mitacs uses the information provided to arrange supports and services for my internship \n",
            "and to dispense my award payments.  \n",
            " \n",
            "  \n",
            " \n",
            "Mitacs’s Terms of Use \n",
            " \n",
            " \n",
            "By selecting \"Yes\" to this section, I: \n",
            " \n",
            "• \n",
            "Agree to provide Mitacs with accurate, complete and detailed information only.\n",
            "737\n"
          ]
        }
      ]
    },
    {
      "cell_type": "code",
      "source": [
        "from rouge_score import rouge_scorer\n",
        "reference_summary =article_text\n",
        "\n",
        "system_summary = summary\n",
        "\n",
        "scorer =rouge_scorer.RougeScorer(['rouge1','rouge2','rougeL'],use_stemmer=True)\n",
        "\n",
        "scores =scorer.score(reference_summary,system_summary)\n",
        "\n",
        "print(\"\\n ROUGE Scores:\")\n",
        "print(f\"ROUGE-1: {scores ['rouge1']}\")\n",
        "print(f\"ROUGE-2: {scores ['rouge1']}\")\n",
        "print(f\"ROUGE-L: {scores ['rouge1']}\")\n",
        "\n"
      ],
      "metadata": {
        "colab": {
          "base_uri": "https://localhost:8080/"
        },
        "id": "m7djj-5H21dA",
        "outputId": "ba3029f5-6942-4ae5-83dc-cc74dddbb134"
      },
      "execution_count": 51,
      "outputs": [
        {
          "output_type": "stream",
          "name": "stdout",
          "text": [
            "\n",
            " ROUGE Scores:\n",
            "ROUGE-1: Score(precision=1.0, recall=0.8391608391608392, fmeasure=0.9125475285171103)\n",
            "ROUGE-2: Score(precision=1.0, recall=0.8391608391608392, fmeasure=0.9125475285171103)\n",
            "ROUGE-L: Score(precision=1.0, recall=0.8391608391608392, fmeasure=0.9125475285171103)\n"
          ]
        }
      ]
    },
    {
      "cell_type": "markdown",
      "source": [
        "##the recall =0.83 📈"
      ],
      "metadata": {
        "id": "FhiVJKKG6Cr5"
      }
    }
  ]
}